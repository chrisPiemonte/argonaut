{
 "cells": [
  {
   "cell_type": "code",
   "execution_count": 1,
   "metadata": {},
   "outputs": [],
   "source": [
    "import sys, os\n",
    "import networkx as nx\n",
    "from stackapi import StackAPI\n",
    "from bs4 import BeautifulSoup\n",
    "import matplotlib.pyplot as plt\n",
    "\n",
    "sys.path.append(os.path.abspath(\"../../../src/\"))\n",
    "from argonaut.utils.stack_utils import *\n",
    "from argonaut.utils.common_utils import *\n",
    "from argonaut.argumentation.mine.from_stack import *"
   ]
  },
  {
   "cell_type": "markdown",
   "metadata": {},
   "source": [
    "### StackAPI Instance\n",
    "To create a API instance, you need to only specify from which site (from the StackExchange platform) you want to retrieve content)"
   ]
  },
  {
   "cell_type": "code",
   "execution_count": 2,
   "metadata": {},
   "outputs": [],
   "source": [
    "site = StackAPI('stackoverflow')"
   ]
  },
  {
   "cell_type": "markdown",
   "metadata": {},
   "source": [
    "#### URL format\n",
    "- **questions**: ```questions```\n",
    "- **answers**:   ```questions/<question_id>/answers```\n",
    "- **comments**:  ```answers/<answer_id>/comments```"
   ]
  },
  {
   "cell_type": "code",
   "execution_count": 3,
   "metadata": {},
   "outputs": [],
   "source": [
    "questions_request_url = 'questions'\n",
    "question_request_url  = 'questions/%s'\n",
    "answers_request_to    = 'questions/%s/answers'\n",
    "comments_request_to   = 'answers/%s/comments'\n",
    "\n",
    "question_id = 'aqrse4'\n",
    "question_url = question_request_url % question_id"
   ]
  },
  {
   "cell_type": "markdown",
   "metadata": {},
   "source": [
    "#### Requests\n",
    "- **page_size**: number of questions for each request\n",
    "- **max_pages**: number of requests"
   ]
  },
  {
   "cell_type": "code",
   "execution_count": 4,
   "metadata": {},
   "outputs": [],
   "source": [
    "site.page_size = 5     # get only 2 questions\n",
    "site.max_pages = 1     # for each request (one in this case)\n",
    "\n",
    "questions = get_questions(questions_request_url, site=site)"
   ]
  }
 ],
 "metadata": {
  "kernelspec": {
   "display_name": "Python 3",
   "language": "python",
   "name": "python3"
  },
  "language_info": {
   "codemirror_mode": {
    "name": "ipython",
    "version": 3
   },
   "file_extension": ".py",
   "mimetype": "text/x-python",
   "name": "python",
   "nbconvert_exporter": "python",
   "pygments_lexer": "ipython3",
   "version": "3.6.6"
  }
 },
 "nbformat": 4,
 "nbformat_minor": 2
}
