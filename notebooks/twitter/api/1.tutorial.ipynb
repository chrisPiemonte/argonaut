{
 "cells": [
  {
   "cell_type": "code",
   "execution_count": 3,
   "metadata": {},
   "outputs": [],
   "source": [
    "import tweepy, os, sys\n",
    "\n",
    "sys.path.append(os.path.abspath(\"../../../src/\"))\n",
    "from helper.utils import *\n",
    "from helper.convmanager import *\n",
    "\n",
    "credentials = Credentials('../../../res/credentials.yml')"
   ]
  },
  {
   "cell_type": "markdown",
   "metadata": {},
   "source": [
    "### Twitter API Instance\n",
    "To create a Twitter API instance, you need four pieces of information:\n",
    "- CONSUMER_KEY\n",
    "- CONSUMER_SECRET\n",
    "- ACCESS_TOKEN\n",
    "- ACCESS_TOKEN_SECRET"
   ]
  },
  {
   "cell_type": "code",
   "execution_count": null,
   "metadata": {},
   "outputs": [],
   "source": [
    "auth = tweepy.OAuthHandler(\n",
    "    credentials.twitter['CONSUMER_KEY'],\n",
    "    credentials.twitter['CONSUMER_SECRET'])\n",
    "auth.set_access_token(\n",
    "    credentials.twitter['ACCESS_TOKEN'],\n",
    "    credentials.twitter['ACCESS_TOKEN_SECRET'])\n",
    "\n",
    "API = tweepy.API(auth)"
   ]
  },
  {
   "cell_type": "markdown",
   "metadata": {},
   "source": [
    "### Search API\n",
    "Returns a collection of relevant Tweets matching a specified query. Relevant params:\n",
    "- **q**: query, relevant argument of the retrieved tweets\n",
    "- **lang**: language of the retrieved tweets\n",
    "- **tweet_mode**: if true, text does not get truncated\n",
    "\n",
    "\n",
    "\n",
    "Then with ```Cursor``` method of tweepy, you can retrieve up to **1000** tweets related to that query."
   ]
  },
  {
   "cell_type": "code",
   "execution_count": 4,
   "metadata": {},
   "outputs": [],
   "source": [
    "search_options = {\n",
    "    'q':          'christmas',  # query\n",
    "    'lang':       'en',         # language\n",
    "    'tweet_mode': 'extended'    # get full tweet text\n",
    "}\n",
    "\n",
    "statuses = tweepy.Cursor(api.search, **search_options).items(1000) "
   ]
  },
  {
   "cell_type": "markdown",
   "metadata": {},
   "source": [
    "### Build the conversation\n",
    "The goal is to rebuild a conversation, because the 1000 tweets retrieved may be unrelated. The steps are:\n",
    "1. Filter tweets with no parent tweet\n",
    "2. Starting from each remaining tweet, make another API request to retrieve the parent tweet (the tweet to which the current one is responding), if not already present, and then proceed recursively\n",
    "3. You end up with potentially up to 1000 conversations, so you can try to merge some of them if they have elements in common."
   ]
  },
  {
   "cell_type": "markdown",
   "metadata": {},
   "source": [
    "#### - Step 1: Filter tweets with no parent tweet"
   ]
  },
  {
   "cell_type": "code",
   "execution_count": null,
   "metadata": {},
   "outputs": [],
   "source": [
    "tweets = [[convert(status)] for status in statuses if is_response(status)]"
   ]
  },
  {
   "cell_type": "markdown",
   "metadata": {},
   "source": [
    "#### - Step 2: Extend the conversations"
   ]
  },
  {
   "cell_type": "code",
   "execution_count": null,
   "metadata": {},
   "outputs": [],
   "source": [
    "convs  = [extend(api, tweet) for tweet in tweets]"
   ]
  },
  {
   "cell_type": "markdown",
   "metadata": {},
   "source": [
    "#### - Step 3: Merge the conversations"
   ]
  },
  {
   "cell_type": "code",
   "execution_count": null,
   "metadata": {},
   "outputs": [],
   "source": [
    "merged_convs = merge_conversations(convs, has_common=has_common_tweet)"
   ]
  }
 ],
 "metadata": {
  "kernelspec": {
   "display_name": "Python 3",
   "language": "python",
   "name": "python3"
  },
  "language_info": {
   "codemirror_mode": {
    "name": "ipython",
    "version": 3
   },
   "file_extension": ".py",
   "mimetype": "text/x-python",
   "name": "python",
   "nbconvert_exporter": "python",
   "pygments_lexer": "ipython3",
   "version": "3.6.6"
  }
 },
 "nbformat": 4,
 "nbformat_minor": 2
}
