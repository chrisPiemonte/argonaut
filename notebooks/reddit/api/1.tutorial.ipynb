{
 "cells": [
  {
   "cell_type": "code",
   "execution_count": 1,
   "metadata": {},
   "outputs": [
    {
     "data": {
      "text/plain": [
       "'anzianotti'"
      ]
     },
     "execution_count": 1,
     "metadata": {},
     "output_type": "execute_result"
    }
   ],
   "source": [
    "import praw\n",
    "import sys, os\n",
    "sys.path.append(os.path.abspath(\"../../../src/\"))\n",
    "from argonaut.utils.common_utils import *\n",
    "from argonaut.utils.reddit_utils import *\n",
    "\n",
    "credentials = Credentials('../../../res/credentials.yml')\n",
    "credentials.reddit['USERNAME']"
   ]
  },
  {
   "cell_type": "markdown",
   "metadata": {},
   "source": [
    "User agent format:\n",
    "```<platform>:<app ID>:<version string> (by /u/<username>)```"
   ]
  },
  {
   "cell_type": "code",
   "execution_count": 2,
   "metadata": {},
   "outputs": [],
   "source": [
    "USER_AGENT = 'linux:com.example.argumentation:v0.0.1 (by /u/anzianotti)'"
   ]
  },
  {
   "cell_type": "markdown",
   "metadata": {},
   "source": [
    "### Reddit Instance\n",
    "To create a read-only Reddit instance, you need three pieces of information:\n",
    "- client ID\n",
    "- client secret\n",
    "- user agent\n",
    "\n",
    "If you want to do more than retrieve public information from Reddit, then you need an authorized Reddit instance."
   ]
  },
  {
   "cell_type": "code",
   "execution_count": 3,
   "metadata": {},
   "outputs": [
    {
     "name": "stdout",
     "output_type": "stream",
     "text": [
      "True\n"
     ]
    }
   ],
   "source": [
    "reddit = praw.Reddit(\n",
    "    # username=credentials.reddit['USERNAME'], # add these if you want more privileges\n",
    "    # password=credentials.reddit['PASSWORD'], # add these if you want more privileges\n",
    "    client_id=credentials.reddit['CLIENT_ID'],\n",
    "    client_secret=credentials.reddit['CLIENT_SECRET'],\n",
    "    user_agent=USER_AGENT)\n",
    "\n",
    "print(reddit.read_only)"
   ]
  },
  {
   "cell_type": "markdown",
   "metadata": {},
   "source": [
    "### Subreddit Instance\n",
    "To obtain a ```Subreddit``` instance, pass the subreddit’s name when calling ```subreddit``` on your ```Reddit``` instance. For example:"
   ]
  },
  {
   "cell_type": "code",
   "execution_count": 4,
   "metadata": {},
   "outputs": [
    {
     "name": "stdout",
     "output_type": "stream",
     "text": [
      "NAME:   redditdev\n",
      "TITLE:  reddit Development\n",
      "DESCRIPTION:\n",
      "\n",
      " A subreddit for discussion of reddit API clients.\n",
      "\n",
      "* [Read the API Overview & Rules](https://github.com/reddit/reddit/wiki/API)\n",
      "* [Check out the API documentation](http://www.reddit.com/dev/api)\n",
      "* For PRAW related chat visit: https://gitter.im/praw-dev/praw\n",
      "* [Join us on IRC: `#reddit-dev` on irc.freenode.net](http://webchat.freenode.net/?channels=reddit-dev) (see also: [a log of previous conversations](https://botbot.me/freenode/reddit-dev/))\n",
      "* Please do not request bots here. Consider /r/requestabot instead.\n",
      "\n",
      "\n",
      "Please confine discussion to reddit's API instead of using this as a soapbox to talk to the admins. In particular, use [/r/ideasfortheadmins](/r/ideasfortheadmins) for feature ideas and [/r/bugs](/r/bugs) for bugs. If you have general reddit questions, try [/r/help](/r/help).\n",
      "\n",
      "To see an explanation of recent user-facing changes to reddit (and the code behind them), check out /r/changelog.\n",
      "\n",
      "---\n",
      "\n",
      "To report a security issue with reddit, please send an email to <security@reddit.com> .\n",
      "\n",
      "This is an admin-sponsored subreddit.\n"
     ]
    }
   ],
   "source": [
    "subreddit = reddit.subreddit('redditdev')\n",
    "\n",
    "print('NAME:   %s' % subreddit.display_name)  # Output: redditdev\n",
    "print('TITLE:  %s' % subreddit.title)         # Output: reddit Development\n",
    "print('DESCRIPTION:\\n\\n %s' % subreddit.description)   # Output: A subreddit for discussion of ..."
   ]
  },
  {
   "cell_type": "markdown",
   "metadata": {},
   "source": [
    "---\n",
    "### Obtain Submission Instances from a Subreddit\n",
    "Now that you have a ```Subreddit``` instance, you can iterate through some of its submissions, each bound to an instance of ```Submission```. There are several sorts that you can iterate through:\n",
    "\n",
    "- controversial\n",
    "- gilded\n",
    "- hot\n",
    "- new\n",
    "- rising\n",
    "- top"
   ]
  },
  {
   "cell_type": "code",
   "execution_count": 5,
   "metadata": {},
   "outputs": [
    {
     "name": "stdout",
     "output_type": "stream",
     "text": [
      "ID:    98vj9e\n",
      "URL:   https://www.reddit.com/r/redditdev/comments/98vj9e/please_be_a_good_bot_citizen_of_reddit/\n",
      "TITLE: Please be a good 'bot' citizen of reddit\n",
      "SCORE: 109\n",
      "\n",
      "ID:    aqrwve\n",
      "URL:   https://www.reddit.com/r/redditdev/comments/aqrwve/getting_refresh_token_unauthorized_error/\n",
      "TITLE: getting refresh token (unauthorized error)\n",
      "SCORE: 7\n",
      "\n",
      "ID:    aqknk3\n",
      "URL:   https://www.reddit.com/r/redditdev/comments/aqknk3/wikipagerevision_date_inconsistency/\n",
      "TITLE: wikipage.revision_date inconsistency\n",
      "SCORE: 9\n",
      "\n"
     ]
    }
   ],
   "source": [
    "submissionId = '8s67ow'\n",
    "submission1  = reddit.submission(submissionId)\n",
    "\n",
    "for submission in subreddit.hot(limit=3):\n",
    "    print('ID:    %s' % submission.id)     # Output: the submission's ID\n",
    "    print('URL:   %s' % submission.url)    # Output: the URL the submission points to\n",
    "    print('TITLE: %s' % submission.title)  # Output: the submission's title\n",
    "    print('SCORE: %s' % submission.score)  # Output: the submission's score\n",
    "    print()\n"
   ]
  },
  {
   "cell_type": "markdown",
   "metadata": {},
   "source": [
    "### Redditor Instance"
   ]
  },
  {
   "cell_type": "markdown",
   "metadata": {},
   "source": [
    "There are several ways to obtain a redditor (a ```Redditor``` instance). Two of the most common ones are:\n",
    "\n",
    "- via the ```author``` attribute of a ```Submission``` or ```Comment``` instance\n",
    "- via the ```redditor()``` method of ```Reddit```\n",
    "\n",
    "For example:"
   ]
  },
  {
   "cell_type": "code",
   "execution_count": 6,
   "metadata": {},
   "outputs": [
    {
     "name": "stdout",
     "output_type": "stream",
     "text": [
      "REDDITOR NAME:  sqrayper\n",
      "REDDITOR KARMA: 3075\n"
     ]
    }
   ],
   "source": [
    "redditor1 = submission.author\n",
    "print('REDDITOR NAME:  %s' % redditor1.name)  # Output: name of the redditor\n",
    "\n",
    "redditor2 = reddit.redditor('bboe')\n",
    "print('REDDITOR KARMA: %s' % redditor2.link_karma)  # Output: bboe's karma"
   ]
  },
  {
   "cell_type": "markdown",
   "metadata": {},
   "source": [
    "### Comment instance"
   ]
  },
  {
   "cell_type": "markdown",
   "metadata": {},
   "source": [
    "Submissions have a ```comments``` attribute that is a ```CommentForest``` instance. That instance is iterable and represents the top-level comments of the submission by the default comment sort (```best```). If you instead want to iterate over all comments as a flattened list you can call the ```list()``` method on a ```CommentForest``` instance. For example:"
   ]
  },
  {
   "cell_type": "code",
   "execution_count": 7,
   "metadata": {},
   "outputs": [
    {
     "name": "stdout",
     "output_type": "stream",
     "text": [
      "NUMBER OF TOP LEVEL COMMENTS: 1\n",
      "NUMBER OF ALL COMMENTS:       3\n"
     ]
    }
   ],
   "source": [
    "top_level_comments = list(submission.comments)\n",
    "all_comments = submission.comments.list()\n",
    "\n",
    "print('NUMBER OF TOP LEVEL COMMENTS: %s' % len(top_level_comments))\n",
    "print('NUMBER OF ALL COMMENTS:       %s' % len(all_comments))"
   ]
  },
  {
   "cell_type": "markdown",
   "metadata": {},
   "source": [
    "As you may be aware there will periodically be ```MoreComments``` instances scattered throughout the forest. Replace those ```MoreComments``` instances at any time by calling ```replace_more()``` on a ```CommentForest``` instance. Calling ```replace_more()``` access ```comments```, and so must be done after ```comment_sort``` is updated."
   ]
  }
 ],
 "metadata": {
  "kernelspec": {
   "display_name": "Python 3",
   "language": "python",
   "name": "python3"
  },
  "language_info": {
   "codemirror_mode": {
    "name": "ipython",
    "version": 3
   },
   "file_extension": ".py",
   "mimetype": "text/x-python",
   "name": "python",
   "nbconvert_exporter": "python",
   "pygments_lexer": "ipython3",
   "version": "3.6.6"
  }
 },
 "nbformat": 4,
 "nbformat_minor": 2
}
